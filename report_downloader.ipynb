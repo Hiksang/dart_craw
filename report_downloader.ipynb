{
 "cells": [
  {
   "cell_type": "code",
   "execution_count": 1,
   "metadata": {},
   "outputs": [],
   "source": [
    "import OpenDartReader\n",
    "import os\n",
    "from time import sleep\n",
    "import pandas as pd\n",
    "from dotenv import load_dotenv\n",
    "\n",
    "load_dotenv(verbose=True)\n",
    "\n",
    "\n",
    "api_key = os.getenv('dart_api_key')\n",
    "dart = OpenDartReader(api_key)\n"
   ]
  },
  {
   "cell_type": "markdown",
   "metadata": {},
   "source": [
    "## kind.krx 에서 각 거래소 종목목록 추출하기"
   ]
  },
  {
   "cell_type": "code",
   "execution_count": 2,
   "metadata": {},
   "outputs": [
    {
     "name": "stderr",
     "output_type": "stream",
     "text": [
      "/Users/hiksang/Documents/GitHub/dart_craw/dart/lib/python3.10/site-packages/bs4/__init__.py:228: UserWarning: You provided Unicode markup but also provided a value for from_encoding. Your from_encoding will be ignored.\n",
      "  warnings.warn(\"You provided Unicode markup but also provided a value for from_encoding. Your from_encoding will be ignored.\")\n",
      "/Users/hiksang/Documents/GitHub/dart_craw/dart/lib/python3.10/site-packages/bs4/__init__.py:228: UserWarning: You provided Unicode markup but also provided a value for from_encoding. Your from_encoding will be ignored.\n",
      "  warnings.warn(\"You provided Unicode markup but also provided a value for from_encoding. Your from_encoding will be ignored.\")\n",
      "/Users/hiksang/Documents/GitHub/dart_craw/dart/lib/python3.10/site-packages/bs4/__init__.py:228: UserWarning: You provided Unicode markup but also provided a value for from_encoding. Your from_encoding will be ignored.\n",
      "  warnings.warn(\"You provided Unicode markup but also provided a value for from_encoding. Your from_encoding will be ignored.\")\n"
     ]
    }
   ],
   "source": [
    "kospi = pd.read_html('https://kind.krx.co.kr/corpgeneral/corpList.do?method=download&marketType=stockMkt', encoding='cp949')\n",
    "kosdaq = pd.read_html('https://kind.krx.co.kr/corpgeneral/corpList.do?method=download&marketType=kosdaqMkt', encoding='cp949')\n",
    "konex = pd.read_html('https://kind.krx.co.kr/corpgeneral/corpList.do?method=download&marketType=konexMkt', encoding='cp949')\n",
    "kospi = kospi[0]\n",
    "kosdaq = kosdaq[0]\n",
    "konex = konex[0]\n",
    "kospi['종목코드'] = kospi['종목코드'].apply(lambda x: f'{x:06d}')\n",
    "kosdaq['종목코드'] = kosdaq['종목코드'].apply(lambda x: f'{x:06d}')\n",
    "konex['종목코드'] = konex['종목코드'].apply(lambda x: f'{x:06d}')\n"
   ]
  },
  {
   "cell_type": "markdown",
   "metadata": {},
   "source": [
    "## KOSPI"
   ]
  },
  {
   "cell_type": "code",
   "execution_count": null,
   "metadata": {},
   "outputs": [],
   "source": [
    "for index, row in kospi.iterrows():\n",
    "    try:\n",
    "        ComapanyName = row['회사명']\n",
    "        CompanyCode = row['종목코드']\n",
    "        print(row['회사명'], row['종목코드'])\n",
    "        \n",
    "        os.makedirs(f'./report/kospi/{ComapanyName}', exist_ok=True)\n",
    "        \n",
    "        df = dart.list(CompanyCode, start='2023-01-01',kind='A')\n",
    "        for rcp_no in df['rcept_no']:\n",
    "        \n",
    "            files = dart.attach_files(rcp_no)\n",
    "            for title, url in files.items():\n",
    "                print(title)\n",
    "                print(url)\n",
    "                dart.download(url,f'./report/kospi/{ComapanyName}/{title}')\n",
    "        print(index)\n",
    "    except:\n",
    "        pass\n",
    "    sleep(1) ## api 호출 초과를 방지하기 위한 정지\n",
    "    \n",
    "    "
   ]
  },
  {
   "cell_type": "markdown",
   "metadata": {},
   "source": [
    "## KOSDAQ"
   ]
  },
  {
   "cell_type": "code",
   "execution_count": null,
   "metadata": {},
   "outputs": [],
   "source": [
    "for index, row in kosdaq.iterrows():\n",
    "    try:\n",
    "        ComapanyName = row['회사명']\n",
    "        CompanyCode = row['종목코드']\n",
    "        print(row['회사명'], row['종목코드'])\n",
    "        \n",
    "        os.makedirs(f'./report/kosdaq/{ComapanyName}', exist_ok=True)\n",
    "        \n",
    "        df = dart.list(CompanyCode, start='2023-01-01',kind='A')\n",
    "        for rcp_no in df['rcept_no']:\n",
    "        \n",
    "            files = dart.attach_files(rcp_no)\n",
    "            for title, url in files.items():\n",
    "                print(title)\n",
    "                print(url)\n",
    "                dart.download(url,f'./report/kosdaq/{ComapanyName}/{title}')\n",
    "        print(index)\n",
    "    except:\n",
    "        pass\n",
    "    sleep(1) ## api 호출 초과를 방지하기 위한 정지"
   ]
  },
  {
   "cell_type": "markdown",
   "metadata": {},
   "source": [
    "## KONEX"
   ]
  },
  {
   "cell_type": "code",
   "execution_count": null,
   "metadata": {},
   "outputs": [],
   "source": [
    "for index, row in konex.iterrows():\n",
    "    try:\n",
    "        ComapanyName = row['회사명']\n",
    "        CompanyCode = row['종목코드']\n",
    "        print(row['회사명'], row['종목코드'])\n",
    "        \n",
    "        os.makedirs(f'./report/konex/{ComapanyName}', exist_ok=True)\n",
    "        \n",
    "        df = dart.list(CompanyCode, start='2023-01-01',kind='A')\n",
    "        for rcp_no in df['rcept_no']:\n",
    "        \n",
    "            files = dart.attach_files(rcp_no)\n",
    "            for title, url in files.items():\n",
    "                print(title)\n",
    "                print(url)\n",
    "                dart.download(url,f'./report/konex/{ComapanyName}/{title}')\n",
    "        print(index)\n",
    "    except:\n",
    "        pass\n",
    "    sleep(1) ## api 호출 초과를 방지하기 위한 정지"
   ]
  }
 ],
 "metadata": {
  "kernelspec": {
   "display_name": "fss",
   "language": "python",
   "name": "python3"
  },
  "language_info": {
   "codemirror_mode": {
    "name": "ipython",
    "version": 3
   },
   "file_extension": ".py",
   "mimetype": "text/x-python",
   "name": "python",
   "nbconvert_exporter": "python",
   "pygments_lexer": "ipython3",
   "version": "3.10.13"
  }
 },
 "nbformat": 4,
 "nbformat_minor": 2
}
