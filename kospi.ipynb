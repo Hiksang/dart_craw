{
 "cells": [
  {
   "cell_type": "code",
   "execution_count": 1,
   "metadata": {},
   "outputs": [
    {
     "ename": "ModuleNotFoundError",
     "evalue": "No module named 'dotenv'",
     "output_type": "error",
     "traceback": [
      "\u001b[0;31m---------------------------------------------------------------------------\u001b[0m",
      "\u001b[0;31mModuleNotFoundError\u001b[0m                       Traceback (most recent call last)",
      "\u001b[1;32m/Users/hiksang/Documents/GitHub/dart_craw/kospi.ipynb 셀 1\u001b[0m line \u001b[0;36m<cell line: 5>\u001b[0;34m()\u001b[0m\n\u001b[1;32m      <a href='vscode-notebook-cell:/Users/hiksang/Documents/GitHub/dart_craw/kospi.ipynb#W0sZmlsZQ%3D%3D?line=2'>3</a>\u001b[0m \u001b[39mfrom\u001b[39;00m \u001b[39mtime\u001b[39;00m \u001b[39mimport\u001b[39;00m sleep\n\u001b[1;32m      <a href='vscode-notebook-cell:/Users/hiksang/Documents/GitHub/dart_craw/kospi.ipynb#W0sZmlsZQ%3D%3D?line=3'>4</a>\u001b[0m \u001b[39mimport\u001b[39;00m \u001b[39mpandas\u001b[39;00m \u001b[39mas\u001b[39;00m \u001b[39mpd\u001b[39;00m\n\u001b[0;32m----> <a href='vscode-notebook-cell:/Users/hiksang/Documents/GitHub/dart_craw/kospi.ipynb#W0sZmlsZQ%3D%3D?line=4'>5</a>\u001b[0m \u001b[39mfrom\u001b[39;00m \u001b[39mdotenv\u001b[39;00m \u001b[39mimport\u001b[39;00m load_dotenv\n\u001b[1;32m      <a href='vscode-notebook-cell:/Users/hiksang/Documents/GitHub/dart_craw/kospi.ipynb#W0sZmlsZQ%3D%3D?line=6'>7</a>\u001b[0m load_dotenv(verbose\u001b[39m=\u001b[39m\u001b[39mTrue\u001b[39;00m)\n\u001b[1;32m      <a href='vscode-notebook-cell:/Users/hiksang/Documents/GitHub/dart_craw/kospi.ipynb#W0sZmlsZQ%3D%3D?line=7'>8</a>\u001b[0m api_key \u001b[39m=\u001b[39m os\u001b[39m.\u001b[39mgetenv(\u001b[39m'\u001b[39m\u001b[39mdart_api_key\u001b[39m\u001b[39m'\u001b[39m)\n",
      "\u001b[0;31mModuleNotFoundError\u001b[0m: No module named 'dotenv'"
     ]
    }
   ],
   "source": [
    "import OpenDartReader\n",
    "import os\n",
    "from time import sleep\n",
    "import pandas as pd\n",
    "from dotenv import load_dotenv\n",
    "\n",
    "load_dotenv(verbose=True)\n",
    "api_key = os.getenv('dart_api_key')\n",
    "\n",
    "dart = OpenDartReader(api_key)\n"
   ]
  },
  {
   "cell_type": "code",
   "execution_count": 6,
   "metadata": {},
   "outputs": [
    {
     "data": {
      "text/plain": [
       "<OpenDartReader.dart.OpenDartReader at 0x133572140>"
      ]
     },
     "execution_count": 6,
     "metadata": {},
     "output_type": "execute_result"
    }
   ],
   "source": [
    "dart"
   ]
  },
  {
   "cell_type": "code",
   "execution_count": 7,
   "metadata": {},
   "outputs": [
    {
     "name": "stderr",
     "output_type": "stream",
     "text": [
      "/Users/hiksang/Documents/GitHub/Fss_crawling/fss/lib/python3.10/site-packages/bs4/__init__.py:228: UserWarning: You provided Unicode markup but also provided a value for from_encoding. Your from_encoding will be ignored.\n",
      "  warnings.warn(\"You provided Unicode markup but also provided a value for from_encoding. Your from_encoding will be ignored.\")\n",
      "/Users/hiksang/Documents/GitHub/Fss_crawling/fss/lib/python3.10/site-packages/bs4/__init__.py:228: UserWarning: You provided Unicode markup but also provided a value for from_encoding. Your from_encoding will be ignored.\n",
      "  warnings.warn(\"You provided Unicode markup but also provided a value for from_encoding. Your from_encoding will be ignored.\")\n",
      "/Users/hiksang/Documents/GitHub/Fss_crawling/fss/lib/python3.10/site-packages/bs4/__init__.py:228: UserWarning: You provided Unicode markup but also provided a value for from_encoding. Your from_encoding will be ignored.\n",
      "  warnings.warn(\"You provided Unicode markup but also provided a value for from_encoding. Your from_encoding will be ignored.\")\n"
     ]
    }
   ],
   "source": [
    "## kind.krx 에서 각 거래소 종목목록 추출하기\n",
    "kospi = pd.read_html('https://kind.krx.co.kr/corpgeneral/corpList.do?method=download&marketType=stockMkt', encoding='cp949')\n",
    "kosdaq = pd.read_html('https://kind.krx.co.kr/corpgeneral/corpList.do?method=download&marketType=kosdaqMkt', encoding='cp949')\n",
    "konex = pd.read_html('https://kind.krx.co.kr/corpgeneral/corpList.do?method=download&marketType=konexMkt', encoding='cp949')\n",
    "kospi = kospi[0]\n",
    "kosdaq = kosdaq[0]\n",
    "konex = konex[0]\n",
    "kospi['종목코드'] = kospi['종목코드'].apply(lambda x: f'{x:06d}')\n",
    "kosdaq['종목코드'] = kosdaq['종목코드'].apply(lambda x: f'{x:06d}')\n",
    "konex['종목코드'] = konex['종목코드'].apply(lambda x: f'{x:06d}')\n"
   ]
  },
  {
   "cell_type": "code",
   "execution_count": 8,
   "metadata": {},
   "outputs": [
    {
     "name": "stdout",
     "output_type": "stream",
     "text": [
      "BGF리테일 282330\n",
      "{\"message\":\"정의되지 않은 오류가 발생하였습니다.\",\"status\":\"900\"}\n",
      "DRB동일 004840\n",
      "{\"message\":\"정의되지 않은 오류가 발생하였습니다.\",\"status\":\"900\"}\n",
      "E1 017940\n",
      "{\"message\":\"정의되지 않은 오류가 발생하였습니다.\",\"status\":\"900\"}\n",
      "HDC 012630\n",
      "{\"message\":\"정의되지 않은 오류가 발생하였습니다.\",\"status\":\"900\"}\n",
      "HD현대중공업 329180\n",
      "{\"message\":\"정의되지 않은 오류가 발생하였습니다.\",\"status\":\"900\"}\n"
     ]
    },
    {
     "ename": "KeyboardInterrupt",
     "evalue": "",
     "output_type": "error",
     "traceback": [
      "\u001b[0;31m---------------------------------------------------------------------------\u001b[0m",
      "\u001b[0;31mKeyboardInterrupt\u001b[0m                         Traceback (most recent call last)",
      "\u001b[1;32m/Users/hiksang/Documents/GitHub/Fss_crawling/kospi.ipynb 셀 4\u001b[0m line \u001b[0;36m2\n\u001b[1;32m     <a href='vscode-notebook-cell:/Users/hiksang/Documents/GitHub/Fss_crawling/kospi.ipynb#W3sZmlsZQ%3D%3D?line=17'>18</a>\u001b[0m \u001b[39mexcept\u001b[39;00m:\n\u001b[1;32m     <a href='vscode-notebook-cell:/Users/hiksang/Documents/GitHub/Fss_crawling/kospi.ipynb#W3sZmlsZQ%3D%3D?line=18'>19</a>\u001b[0m     \u001b[39mpass\u001b[39;00m\n\u001b[0;32m---> <a href='vscode-notebook-cell:/Users/hiksang/Documents/GitHub/Fss_crawling/kospi.ipynb#W3sZmlsZQ%3D%3D?line=19'>20</a>\u001b[0m sleep(\u001b[39m1\u001b[39;49m)\n",
      "\u001b[0;31mKeyboardInterrupt\u001b[0m: "
     ]
    }
   ],
   "source": [
    "for index, row in kospi.iterrows():\n",
    "    try:\n",
    "        ComapanyName = row['회사명']\n",
    "        CompanyCode = row['종목코드']\n",
    "        print(row['회사명'], row['종목코드'])\n",
    "        \n",
    "        os.makedirs(f'./report/kospi/{ComapanyName}', exist_ok=True)\n",
    "        \n",
    "        df = dart.list(CompanyCode, start='2023-01-01',kind='A')\n",
    "        for rcp_no in df['rcept_no']:\n",
    "        \n",
    "            files = dart.attach_files(rcp_no)\n",
    "            for title, url in files.items():\n",
    "                print(title)\n",
    "                print(url)\n",
    "                dart.download(url,f'./report/kospi/{ComapanyName}/{title}')\n",
    "        print(index)\n",
    "    except:\n",
    "        pass\n",
    "    sleep(1)\n",
    "    \n",
    "    "
   ]
  }
 ],
 "metadata": {
  "kernelspec": {
   "display_name": "fss",
   "language": "python",
   "name": "python3"
  },
  "language_info": {
   "codemirror_mode": {
    "name": "ipython",
    "version": 3
   },
   "file_extension": ".py",
   "mimetype": "text/x-python",
   "name": "python",
   "nbconvert_exporter": "python",
   "pygments_lexer": "ipython3",
   "version": "3.9.13"
  }
 },
 "nbformat": 4,
 "nbformat_minor": 2
}
